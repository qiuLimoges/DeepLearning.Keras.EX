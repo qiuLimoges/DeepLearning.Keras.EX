{
 "cells": [
  {
   "cell_type": "code",
   "execution_count": 7,
   "metadata": {},
   "outputs": [
    {
     "name": "stdout",
     "output_type": "stream",
     "text": [
      "Downloading data from https://s3.amazonaws.com/text-datasets/reuters.npz\n",
      "2113536/2110848 [==============================] - 2s 1us/step\n"
     ]
    }
   ],
   "source": [
    "from keras.datasets import reuters\n",
    "(train_data,train_labels),(test_data,test_labels)=reuters.load_data(num_words=10000)"
   ]
  },
  {
   "cell_type": "code",
   "execution_count": 20,
   "metadata": {},
   "outputs": [
    {
     "name": "stdout",
     "output_type": "stream",
     "text": [
      "? generale de banque sa lt ? br and lt heller overseas corp of chicago have each taken 50 pct stakes in ? company sa ? factors generale de banque said in a statement it gave no financial details of the transaction sa ? ? turnover in 1986 was 17 5 billion belgian francs reuter 3\n"
     ]
    }
   ],
   "source": [
    "word_index=reuters.get_word_index()\n",
    "reverse_word_index=dict([(value,key) for (key,value) in word_index.items()])\n",
    "decoded_newswire=' '.join([reverse_word_index.get(i-3,'?') for i in train_data[1]])\n",
    "print(decoded_newswire)"
   ]
  },
  {
   "cell_type": "code",
   "execution_count": 21,
   "metadata": {},
   "outputs": [],
   "source": [
    "import numpy as np\n",
    "def vectorize_sequences(sequences,demension=10000):\n",
    "    results=np.zeros((len(sequences),demension))\n",
    "    for i,sequence in enumerate(sequences):\n",
    "        results[i,sequence]=1.\n",
    "    return results\n",
    "\n",
    "x_train=vectorize_sequences(train_data)\n",
    "x_test=vectorize_sequences(test_data)"
   ]
  },
  {
   "cell_type": "code",
   "execution_count": 22,
   "metadata": {},
   "outputs": [],
   "source": [
    "from keras.utils.np_utils import to_categorical\n",
    "one_hot_train_labels=to_categorical(train_labels)\n",
    "one_hot_test_labels=to_categorical(test_labels)"
   ]
  },
  {
   "cell_type": "code",
   "execution_count": 39,
   "metadata": {},
   "outputs": [],
   "source": [
    "np.savez('reutersTraitedData',x_train=x_train,x_test=x_test,one_hot_train_labels=one_hot_train_labels,one_hot_test_labels=one_hot_test_labels)\n",
    "nmfiles=np.load('reutersTraitedData.npz')\n",
    "x_train=nmfiles['x_train']\n",
    "x_test=nmfiles['x_test']\n",
    "one_hot_train_labels=nmfiles['one_hot_train_labels']\n",
    "one_hot_test_labels=nmfiles['one_hot_test_labels']"
   ]
  },
  {
   "cell_type": "code",
   "execution_count": 40,
   "metadata": {},
   "outputs": [],
   "source": [
    "from keras import models\n",
    "from keras import layers\n",
    "\n",
    "model=models.Sequential()\n",
    "model.add(layers.Dense(64,activation='relu',input_shape=(10000,)))\n",
    "model.add(layers.Dense(64,activation='relu'))\n",
    "model.add(layers.Dense(46,activation='softmax'))\n",
    "\n",
    "model.compile(optimizer='rmsprop',\n",
    "             loss='categorical_crossentropy',\n",
    "             metrics=['accuracy'])\n",
    "\n",
    "x_val=x_train[0:1000]\n",
    "partial_x_train=x_train[1000:]\n",
    "y_val=one_hot_train_labels[:1000]\n",
    "partial_y_train=one_hot_train_labels[1000:]\n",
    "\n"
   ]
  },
  {
   "cell_type": "code",
   "execution_count": 41,
   "metadata": {},
   "outputs": [
    {
     "name": "stdout",
     "output_type": "stream",
     "text": [
      "Train on 7982 samples, validate on 1000 samples\n",
      "Epoch 1/20\n",
      "7982/7982 [==============================] - 2s 270us/step - loss: 2.6403 - accuracy: 0.4521 - val_loss: 1.7944 - val_accuracy: 0.6510\n",
      "Epoch 2/20\n",
      "7982/7982 [==============================] - 2s 198us/step - loss: 1.4458 - accuracy: 0.7126 - val_loss: 1.3181 - val_accuracy: 0.7360\n",
      "Epoch 3/20\n",
      "7982/7982 [==============================] - 2s 207us/step - loss: 1.0500 - accuracy: 0.7816 - val_loss: 1.1354 - val_accuracy: 0.7630\n",
      "Epoch 4/20\n",
      "7982/7982 [==============================] - 2s 216us/step - loss: 0.8197 - accuracy: 0.8289 - val_loss: 1.0242 - val_accuracy: 0.7840\n",
      "Epoch 5/20\n",
      "7982/7982 [==============================] - 2s 204us/step - loss: 0.6472 - accuracy: 0.8649 - val_loss: 0.9592 - val_accuracy: 0.8040\n",
      "Epoch 6/20\n",
      "7982/7982 [==============================] - 2s 216us/step - loss: 0.5189 - accuracy: 0.8938 - val_loss: 0.9067 - val_accuracy: 0.8110\n",
      "Epoch 7/20\n",
      "7982/7982 [==============================] - 2s 204us/step - loss: 0.4182 - accuracy: 0.9156 - val_loss: 0.9241 - val_accuracy: 0.8070\n",
      "Epoch 8/20\n",
      "7982/7982 [==============================] - 2s 194us/step - loss: 0.3400 - accuracy: 0.9285 - val_loss: 0.8767 - val_accuracy: 0.8200\n",
      "Epoch 9/20\n",
      "7982/7982 [==============================] - 1s 185us/step - loss: 0.2840 - accuracy: 0.9390 - val_loss: 0.8718 - val_accuracy: 0.8210\n",
      "Epoch 10/20\n",
      "7982/7982 [==============================] - 2s 201us/step - loss: 0.2394 - accuracy: 0.9445 - val_loss: 0.8647 - val_accuracy: 0.8280\n",
      "Epoch 11/20\n",
      "7982/7982 [==============================] - 2s 200us/step - loss: 0.2144 - accuracy: 0.9469 - val_loss: 0.8725 - val_accuracy: 0.8220\n",
      "Epoch 12/20\n",
      "7982/7982 [==============================] - 2s 210us/step - loss: 0.1827 - accuracy: 0.9504 - val_loss: 0.9066 - val_accuracy: 0.8110\n",
      "Epoch 13/20\n",
      "7982/7982 [==============================] - 2s 207us/step - loss: 0.1669 - accuracy: 0.9510 - val_loss: 0.9289 - val_accuracy: 0.8160\n",
      "Epoch 14/20\n",
      "7982/7982 [==============================] - 2s 201us/step - loss: 0.1543 - accuracy: 0.9558 - val_loss: 0.9331 - val_accuracy: 0.8190\n",
      "Epoch 15/20\n",
      "7982/7982 [==============================] - 2s 196us/step - loss: 0.1397 - accuracy: 0.9553 - val_loss: 0.9870 - val_accuracy: 0.7990\n",
      "Epoch 16/20\n",
      "7982/7982 [==============================] - 2s 201us/step - loss: 0.1358 - accuracy: 0.9567 - val_loss: 0.9650 - val_accuracy: 0.8120\n",
      "Epoch 17/20\n",
      "7982/7982 [==============================] - 2s 197us/step - loss: 0.1249 - accuracy: 0.9570 - val_loss: 0.9688 - val_accuracy: 0.8130\n",
      "Epoch 18/20\n",
      "7982/7982 [==============================] - 1s 183us/step - loss: 0.1189 - accuracy: 0.9574 - val_loss: 1.1204 - val_accuracy: 0.7920\n",
      "Epoch 19/20\n",
      "7982/7982 [==============================] - 1s 180us/step - loss: 0.1151 - accuracy: 0.9585 - val_loss: 1.1064 - val_accuracy: 0.7900\n",
      "Epoch 20/20\n",
      "7982/7982 [==============================] - 2s 191us/step - loss: 0.1139 - accuracy: 0.9574 - val_loss: 1.0976 - val_accuracy: 0.7910\n"
     ]
    }
   ],
   "source": [
    "history=model.fit(partial_x_train,\n",
    "                 partial_y_train,\n",
    "                 epochs=20,\n",
    "                 batch_size=512,\n",
    "                 validation_data=(x_val,y_val))"
   ]
  },
  {
   "cell_type": "code",
   "execution_count": null,
   "metadata": {},
   "outputs": [],
   "source": []
  }
 ],
 "metadata": {
  "kernelspec": {
   "display_name": "Python 3",
   "language": "python",
   "name": "python3"
  },
  "language_info": {
   "codemirror_mode": {
    "name": "ipython",
    "version": 3
   },
   "file_extension": ".py",
   "mimetype": "text/x-python",
   "name": "python",
   "nbconvert_exporter": "python",
   "pygments_lexer": "ipython3",
   "version": "3.7.5"
  }
 },
 "nbformat": 4,
 "nbformat_minor": 4
}
